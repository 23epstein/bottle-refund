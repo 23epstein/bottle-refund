{
  "nbformat": 4,
  "nbformat_minor": 0,
  "metadata": {
    "colab": {
      "provenance": [],
      "authorship_tag": "ABX9TyOfEhH2CzrQF/GXsd3F+8rR",
      "include_colab_link": true
    },
    "kernelspec": {
      "name": "python3",
      "display_name": "Python 3"
    },
    "language_info": {
      "name": "python"
    }
  },
  "cells": [
    {
      "cell_type": "markdown",
      "metadata": {
        "id": "view-in-github",
        "colab_type": "text"
      },
      "source": [
        "<a href=\"https://colab.research.google.com/github/23epstein/bottle-refund/blob/main/bottle_refund.ipynb\" target=\"_parent\"><img src=\"https://colab.research.google.com/assets/colab-badge.svg\" alt=\"Open In Colab\"/></a>"
      ]
    },
    {
      "cell_type": "code",
      "execution_count": 1,
      "metadata": {
        "colab": {
          "base_uri": "https://localhost:8080/"
        },
        "id": "WsF2cqJN-0jQ",
        "outputId": "0a69784d-c061-4496-e33f-6ba887c4b1c4"
      },
      "outputs": [
        {
          "output_type": "stream",
          "name": "stdout",
          "text": [
            "Enter the number of the containers holding one liter or less: 25\n",
            "Enter the number of the containers holding more than one liters: 31\n",
            "The total refund for returning the containers is $10.25\n"
          ]
        }
      ],
      "source": [
        "def calculate_refund():\n",
        "    #Read the contains entered by the user\n",
        "    small_containers = int(input(\"Enter the number of the containers holding one liter or less: \"))\n",
        "    large_containers = int(input(\"Enter the number of the containers holding more than one liters: \"))\n",
        "\n",
        "    #calculate the refund\n",
        "    small_refund = small_containers * 0.10\n",
        "    large_refund = large_containers * 0.25\n",
        "\n",
        "    #Compute the total refund\n",
        "    total_refund = small_refund + large_refund\n",
        "\n",
        "    #Display the total refund formatted\n",
        "    print(f\"The total refund for returning the containers is ${total_refund:.2f}\")\n",
        "\n",
        "calculate_refund()"
      ]
    }
  ]
}